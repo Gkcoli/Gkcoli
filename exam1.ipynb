{
  "cells": [
    {
      "cell_type": "markdown",
      "metadata": {
        "id": "view-in-github",
        "colab_type": "text"
      },
      "source": [
        "<a href=\"https://colab.research.google.com/github/Gkcoli/Gkcoli/blob/main/exam1.ipynb\" target=\"_parent\"><img src=\"https://colab.research.google.com/assets/colab-badge.svg\" alt=\"Open In Colab\"/></a>"
      ]
    },
    {
      "cell_type": "markdown",
      "metadata": {
        "id": "yaz2B0KGFehP"
      },
      "source": [
        "# Midterm Exam 💛💙"
      ]
    },
    {
      "cell_type": "markdown",
      "metadata": {
        "id": "_DmK1ONEFehQ"
      },
      "source": [
        "**Instructions** ❗️❗️\n",
        "\n",
        "❌ Do not remove or modify the notebook **sections**, **subsections**, **exam questions** or **any text** in this python notebook\n",
        "\n",
        "✔️ Put your answer in the designated cells below each question"
      ]
    },
    {
      "cell_type": "markdown",
      "metadata": {
        "id": "TMCAXKWCFehR"
      },
      "source": [
        "## Search"
      ]
    },
    {
      "cell_type": "code",
      "execution_count": 42,
      "metadata": {
        "id": "Fy8nEBRRFehR"
      },
      "outputs": [],
      "source": [
        "def linearSearch(my_list, number):\n",
        "\n",
        "    index = 0\n",
        "\n",
        "    for i in my_list:\n",
        "\n",
        "        if my_list[index] == number:\n",
        "            return index\n",
        "\n",
        "        index = index + 1\n",
        "\n",
        "    return -1"
      ]
    },
    {
      "cell_type": "markdown",
      "metadata": {
        "id": "AjAevpueFehS"
      },
      "source": [
        "1. Using **linear search**, write a `findLargestIncrease()` function to find the largest increase in value between two adjacent numbers in your student number `(10 points)`\n",
        "\n",
        "    **Example:**\n",
        "\n",
        "    student_number = [2,0,2,2,6,2,5,1,9,3]\n",
        "\n",
        "    **Expected Output:**\n",
        "\n",
        "    findLargestIncrease(student_number)\n",
        "\n",
        "    Output: Between 1 and 9\n",
        "\n",
        "    **Explanation:**\n",
        "\n",
        "    From this student_number, the largest increase happened from number 1 to number 9"
      ]
    },
    {
      "cell_type": "code",
      "execution_count": 43,
      "metadata": {
        "id": "JE8nEfyJFehS",
        "outputId": "6270abf5-ccab-4486-d8f6-d8ccd0ec3cb1",
        "colab": {
          "base_uri": "https://localhost:8080/"
        }
      },
      "outputs": [
        {
          "output_type": "stream",
          "name": "stdout",
          "text": [
            "Output: Between 0 and 3\n"
          ]
        }
      ],
      "source": [
        "# put your answer here\n",
        "def findLargestIncrease(student_number):\n",
        "    max_increase = 0\n",
        "    start_index = 0\n",
        "    end_index = 0\n",
        "\n",
        "    for i in range(len(student_number) - 1):\n",
        "        current_increase = student_number[i + 1] - student_number[i]\n",
        "\n",
        "        if current_increase > max_increase:\n",
        "            max_increase = current_increase\n",
        "            start_index = i\n",
        "            end_index = i + 1\n",
        "\n",
        "    if max_increase > 0:\n",
        "        return f\"Between {student_number[start_index]} and {student_number[end_index]}\"\n",
        "    else:\n",
        "        return \"No increase found\"\n",
        "\n",
        "\n",
        "student_number = [2, 0, 2, 2, 1, 0, 3, 2, 4, 1]\n",
        "result = findLargestIncrease(student_number)\n",
        "print(\"Output:\", result)"
      ]
    },
    {
      "cell_type": "markdown",
      "metadata": {
        "id": "nMyr1fNyFehS"
      },
      "source": [
        "2. Using **linear search**, write a `findLargestDecrease()` function to find the largest decrease in value between two adjacent numbers in your student number `(10 points)`\n",
        "\n",
        "    **Example:**\n",
        "\n",
        "    student_number = [2,0,2,2,6,2,5,1,9,3]\n",
        "\n",
        "    **Expected Output:**\n",
        "\n",
        "    findLargestDecrease(student_number)\n",
        "\n",
        "    Output: Between 9 and 3\n",
        "\n",
        "    **Explanation:**\n",
        "\n",
        "    From this student_number, the largest decrease happened from number 9 to number 3"
      ]
    },
    {
      "cell_type": "code",
      "execution_count": 44,
      "metadata": {
        "id": "bfMfQVbVFehS",
        "outputId": "99b45bf8-0e13-4a5d-a832-94c50f9ab881",
        "colab": {
          "base_uri": "https://localhost:8080/"
        }
      },
      "outputs": [
        {
          "output_type": "stream",
          "name": "stdout",
          "text": [
            "Output: Between 4 and 1\n"
          ]
        }
      ],
      "source": [
        "# put your answer here\n",
        "def linearSearch(my_list, number):\n",
        "    index = 0\n",
        "    for i in my_list:\n",
        "        if my_list[index] == number:\n",
        "            return index\n",
        "        index = index + 1\n",
        "    return -1\n",
        "\n",
        "def findLargestDecrease(student_number):\n",
        "    max_decrease = 0\n",
        "    start_index = 0\n",
        "    end_index = 0\n",
        "\n",
        "    for i in range(len(student_number) - 1):\n",
        "        current_decrease = student_number[i] - student_number[i + 1]\n",
        "\n",
        "        if current_decrease > max_decrease:\n",
        "            max_decrease = current_decrease\n",
        "            start_index = i\n",
        "            end_index = i + 1\n",
        "\n",
        "    if max_decrease > 0:\n",
        "        return f\"Between {student_number[start_index]} and {student_number[end_index]}\"\n",
        "    else:\n",
        "        return \"No decrease found\"\n",
        "\n",
        "\n",
        "student_number = [2, 0, 2, 2, 1, 0, 3, 2, 4, 1]\n",
        "result = findLargestDecrease(student_number)\n",
        "print(\"Output:\", result)"
      ]
    },
    {
      "cell_type": "markdown",
      "metadata": {
        "id": "NtKSQn9QFehS"
      },
      "source": [
        "## Linked List"
      ]
    },
    {
      "cell_type": "code",
      "execution_count": 45,
      "metadata": {
        "id": "0HP5zyJcFehS"
      },
      "outputs": [],
      "source": [
        "class Node:\n",
        "\n",
        "    def __init__(self, data):\n",
        "        self.data = data\n",
        "        self.next = None  # null"
      ]
    },
    {
      "cell_type": "code",
      "execution_count": 46,
      "metadata": {
        "id": "A-8Uefe7FehS"
      },
      "outputs": [],
      "source": [
        "class LinkedList:\n",
        "\n",
        "    def __init__(self):\n",
        "        self.head = None\n",
        "\n",
        "    def traverse(self, node):\n",
        "        while node:\n",
        "            print(node.data, end=\" -> \")\n",
        "            node = node.next"
      ]
    },
    {
      "cell_type": "markdown",
      "metadata": {
        "id": "uPgIJJuSFehT"
      },
      "source": [
        "**Instructions** ❗️❗️\n",
        "\n",
        "Use the pre-defined linked list class/functions to create a linked list"
      ]
    },
    {
      "cell_type": "markdown",
      "metadata": {
        "id": "WIwpW7Q2FehT"
      },
      "source": [
        "1. Create a Singly linked list named **num_list** and print all of its elements. `(5 points)`\n",
        "\n",
        "- **num_list** should contain all digits of your student number.\n",
        "\n",
        "    **Expected Output:**\n",
        "\n",
        "    print(num_list)\n",
        "\n",
        "    [2, 0, 2, 2, 1, 2, 3, 4, 5, 6]"
      ]
    },
    {
      "cell_type": "code",
      "execution_count": 47,
      "metadata": {
        "id": "Lihv0JPiFehT",
        "outputId": "cd10e748-d31a-44be-c104-228b5a528b6a",
        "colab": {
          "base_uri": "https://localhost:8080/"
        }
      },
      "outputs": [
        {
          "output_type": "stream",
          "name": "stdout",
          "text": [
            "[2, 0, 2, 2, 1, 0, 3, 2, 4, 1]\n"
          ]
        }
      ],
      "source": [
        "# put your answer here\n",
        "\n",
        "num_list = LinkedList()\n",
        "\n",
        "\n",
        "student_number = [2, 0, 2, 2, 1, 0, 3, 2, 4, 1]\n",
        "\n",
        "\n",
        "for digit in student_number:\n",
        "    new_node = Node(digit)\n",
        "    if not num_list.head:\n",
        "        num_list.head = new_node\n",
        "    else:\n",
        "        current_node = num_list.head\n",
        "        while current_node.next:\n",
        "            current_node = current_node.next\n",
        "        current_node.next = new_node\n",
        "\n",
        "\n",
        "def print_linked_list(linked_list):\n",
        "    current_node = linked_list.head\n",
        "    elements = []\n",
        "    while current_node:\n",
        "        elements.append(current_node.data)\n",
        "        current_node = current_node.next\n",
        "    print(elements)\n",
        "\n",
        "\n",
        "print_linked_list(num_list)\n"
      ]
    },
    {
      "cell_type": "markdown",
      "metadata": {
        "id": "dqA2UYrYFehT"
      },
      "source": [
        "2. Write a `hasPrime()` function to test whether a prime number is in the last six digits of **num_list**. `(5 points)`\n",
        "\n",
        "- If a prime number is in the last six digits of **num_list**, the method should return **true**\n",
        "\n",
        "- If a prime number is not in the last six digits of **num_list**, the method should return **false**\n",
        "\n",
        "    **Expected Output:**\n",
        "\n",
        "    hasPrime(num_list)\n",
        "\n",
        "    True"
      ]
    },
    {
      "cell_type": "code",
      "execution_count": 48,
      "metadata": {
        "id": "GYwsQNz5FehT",
        "colab": {
          "base_uri": "https://localhost:8080/"
        },
        "outputId": "3b076504-92f8-4431-a381-b9fcfc83758d"
      },
      "outputs": [
        {
          "output_type": "stream",
          "name": "stdout",
          "text": [
            "True\n"
          ]
        }
      ],
      "source": [
        "# put your answer here\n",
        "def is_prime(number):\n",
        "    if number <= 1:\n",
        "        return False\n",
        "    if number <= 3:\n",
        "        return True\n",
        "    if number % 2 == 0 or number % 3 == 0:\n",
        "        return False\n",
        "    i = 5\n",
        "    while i * i <= number:\n",
        "        if number % i == 0 or number % (i + 2) == 0:\n",
        "            return False\n",
        "        i += 6\n",
        "    return True\n",
        "\n",
        "def hasPrime(num_list):\n",
        "    current_node = num_list.head\n",
        "    last_six_digits = []\n",
        "\n",
        "\n",
        "    while len(last_six_digits) < 6 and current_node:\n",
        "        last_six_digits.append(current_node.data)\n",
        "        current_node = current_node.next\n",
        "\n",
        "\n",
        "    for digit in reversed(last_six_digits):\n",
        "        if is_prime(digit):\n",
        "            return True\n",
        "\n",
        "    return False\n",
        "\n",
        "result = hasPrime(num_list)\n",
        "print(result)\n"
      ]
    },
    {
      "cell_type": "markdown",
      "metadata": {
        "id": "5Qb0BOiwFehT"
      },
      "source": [
        "3. Write a `removeZeroes()` function to remove all occurrences of zeroes in **num_list**. `(5 points)`\n",
        "\n",
        "- If a zero is in **num_list**, return **num_list**\n",
        "\n",
        "- If there are no zeroes in **num_list**, return **\"no zeros found\"**\n",
        "\n",
        "    **Expected Output:**\n",
        "\n",
        "    removeZeroes(num_list)\n",
        "\n",
        "    [2, 2, 1, 2, 3, 4, 5, 6]"
      ]
    },
    {
      "cell_type": "code",
      "execution_count": 49,
      "metadata": {
        "id": "k1vAHUYuFehT",
        "colab": {
          "base_uri": "https://localhost:8080/"
        },
        "outputId": "30729d33-1f5d-4103-ff84-69a6630204d5"
      },
      "outputs": [
        {
          "output_type": "stream",
          "name": "stdout",
          "text": [
            "[2, 2, 2, 1, 3, 2, 4, 1]\n"
          ]
        }
      ],
      "source": [
        "# put your answer here\n",
        "def removeZeroes(num_list):\n",
        "    current_node = num_list.head\n",
        "    prev_node = None\n",
        "\n",
        "    while current_node:\n",
        "        if current_node.data == 0:\n",
        "            if prev_node is None:\n",
        "                num_list.head = current_node.next\n",
        "                current_node = num_list.head\n",
        "            else:\n",
        "                prev_node.next = current_node.next\n",
        "                current_node = current_node.next\n",
        "        else:\n",
        "            prev_node = current_node\n",
        "            current_node = current_node.next\n",
        "\n",
        "    if num_list.head is None:\n",
        "        return \"no zeros found\"\n",
        "    else:\n",
        "        return num_list\n",
        "\n",
        "result = removeZeroes(num_list)\n",
        "\n",
        "if isinstance(result, str):\n",
        "    print(result)\n",
        "else:\n",
        "    current_node = result.head\n",
        "    modified_list = []\n",
        "    while current_node:\n",
        "        modified_list.append(current_node.data)\n",
        "        current_node = current_node.next\n",
        "    print(modified_list)"
      ]
    },
    {
      "cell_type": "markdown",
      "metadata": {
        "id": "SKAlpglNFehT"
      },
      "source": [
        "4. Insert a dash symbol between the 4th and 5th digit in **num_list**. `(5 points)`\n",
        "\n",
        "    **Expected Output:**\n",
        "\n",
        "    print(num_list)\n",
        "\n",
        "    [2, 0, 2, 2, \"-\", 1, 2, 3, 4, 5, 6]"
      ]
    },
    {
      "cell_type": "code",
      "execution_count": 50,
      "metadata": {
        "id": "vF7fimZ-FehT",
        "outputId": "4d9b2663-809e-40db-bdb9-1d52bf458b05",
        "colab": {
          "base_uri": "https://localhost:8080/"
        }
      },
      "outputs": [
        {
          "output_type": "stream",
          "name": "stdout",
          "text": [
            "[2, 0, 2, 2, '-', 1, 0, 3, 2, 4, 1]\n"
          ]
        }
      ],
      "source": [
        "# put your answer here\n",
        "num_list = LinkedList()\n",
        "\n",
        "for i, digit in enumerate(student_number):\n",
        "    num_list_node = Node(int(digit))\n",
        "    if i == 4:\n",
        "        dash_node = Node(\"-\")\n",
        "        dash_node.next = num_list_node\n",
        "        num_list_node = dash_node\n",
        "\n",
        "    if num_list.head is None:\n",
        "        num_list.head = num_list_node\n",
        "    else:\n",
        "        current_node = num_list.head\n",
        "        while current_node.next is not None:\n",
        "            current_node = current_node.next\n",
        "        current_node.next = num_list_node\n",
        "\n",
        "result = []\n",
        "current_node = num_list.head\n",
        "while current_node:\n",
        "    result.append(current_node.data)\n",
        "    current_node = current_node.next\n",
        "\n",
        "print(result)"
      ]
    },
    {
      "cell_type": "markdown",
      "metadata": {
        "id": "KkC-LgdxFehT"
      },
      "source": [
        "## Stack"
      ]
    },
    {
      "cell_type": "code",
      "execution_count": 51,
      "metadata": {
        "id": "UYTqB1u_FehU"
      },
      "outputs": [],
      "source": [
        "# Creating a stack\n",
        "def create_stack():\n",
        "    stack = []\n",
        "    return stack\n",
        "\n",
        "\n",
        "def print_stack(stack):\n",
        "\n",
        "    if (check_empty(stack)):\n",
        "        return \"stack is empty\"\n",
        "\n",
        "    # Create a copy of the stack and reverse the elements\n",
        "    tempStack = stack.copy()\n",
        "    tempStack.reverse()\n",
        "\n",
        "    # Print all elements using a loop\n",
        "    for i in tempStack:\n",
        "        print(i)\n",
        "\n",
        "    # Delete the copy to free up memory\n",
        "    del tempStack\n",
        "\n",
        "# Creating an empty stack\n",
        "\n",
        "\n",
        "def check_empty(stack):\n",
        "    return len(stack) == 0\n",
        "\n",
        "\n",
        "# Adding items into the stack\n",
        "def push(stack, item):\n",
        "    stack.append(item)\n",
        "    print(\"pushed item: \" + item)\n",
        "\n",
        "\n",
        "# Removing an element from the stack\n",
        "def pop(stack):\n",
        "    if (check_empty(stack)):\n",
        "        return \"stack is empty\"\n",
        "\n",
        "    return stack.pop()\n",
        "\n",
        "\n",
        "def peek(stack):\n",
        "\n",
        "    # Use negative indexing to display the last element of the list\n",
        "    print(stack[-1])"
      ]
    },
    {
      "cell_type": "markdown",
      "metadata": {
        "id": "wLAQchs8FehU"
      },
      "source": [
        "**Instructions** ❗️❗️\n",
        "\n",
        "Use the pre-defined stack class/functions to create a stack"
      ]
    },
    {
      "cell_type": "markdown",
      "metadata": {
        "id": "37cg9BoCFehU"
      },
      "source": [
        "1. Create two (2) stacks named **name_stack** and **num_stack** `(5 points)`\n",
        "\n",
        "- **name_stack** should contain all letters of your first name.\n",
        "- **num_stack** should contain all digits of your student number.\n",
        "\n",
        "    **Expected Output:**\n",
        "\n",
        "    print(name_stack)\n",
        "\n",
        "    ['E', 'L', 'I', 'Z', 'E', 'R']\n",
        "\n",
        "    print(num_stack)\n",
        "\n",
        "    [2,0,2,2,1,2,3,4,5,6]"
      ]
    },
    {
      "cell_type": "code",
      "execution_count": 52,
      "metadata": {
        "id": "HlUIUQzQFehU",
        "colab": {
          "base_uri": "https://localhost:8080/"
        },
        "outputId": "06e4dc98-4f8e-425e-cc2b-4433c0b2ba76"
      },
      "outputs": [
        {
          "output_type": "stream",
          "name": "stdout",
          "text": [
            "pushed item: G\n",
            "pushed item: I\n",
            "pushed item: A\n",
            "pushed item: N\n",
            "\n",
            "['G', 'I', 'A', 'N']\n",
            "[2, 0, 2, 2, 1, 0, 3, 2, 4, 1]\n"
          ]
        }
      ],
      "source": [
        "# put your answer here\n",
        "name_stack = create_stack()\n",
        "num_stack = create_stack()\n",
        "\n",
        "first_name = \"GIAN\"\n",
        "\n",
        "for letter in first_name:\n",
        "    push(name_stack, letter)\n",
        "\n",
        "student_number = [2, 0, 2, 2, 1, 0, 3, 2, 4, 1]\n",
        "\n",
        "for digit in student_number:\n",
        "    num_stack.append(digit)\n",
        "\n",
        "print(\"\")\n",
        "print(name_stack)\n",
        "print(num_stack)"
      ]
    },
    {
      "cell_type": "markdown",
      "metadata": {
        "id": "8cySe9LXFehU"
      },
      "source": [
        "2. Create a stack named **my_stack** that follows the following format: `(5 points)`\n",
        "\n",
        "- The first element should be the **5th digit in your student number**\n",
        "- The succeeding elements should be the letters of your **first name**\n",
        "- The last element should be the **last digit of your student number**\n",
        "\n",
        "    **Expected Output:**\n",
        "\n",
        "    my_stack = [1, E, L, I, Z, E, R, 6]"
      ]
    },
    {
      "cell_type": "code",
      "execution_count": 53,
      "metadata": {
        "id": "bEnCoAhjFehU",
        "outputId": "e5785a86-817a-4a85-bbbe-245bacc36a03",
        "colab": {
          "base_uri": "https://localhost:8080/"
        }
      },
      "outputs": [
        {
          "output_type": "stream",
          "name": "stdout",
          "text": [
            "my_stack = [1, 'G', 'I', 'A', 'N', 1]\n"
          ]
        }
      ],
      "source": [
        "# put your answer here\n",
        "my_stack = create_stack()\n",
        "\n",
        "\n",
        "my_stack.append(student_number[4])\n",
        "\n",
        "for letter in first_name:\n",
        "    my_stack.append(letter)\n",
        "\n",
        "my_stack.append(student_number[-1])\n",
        "\n",
        "print(\"my_stack =\", my_stack)"
      ]
    },
    {
      "cell_type": "markdown",
      "metadata": {
        "id": "8a8_KP5nFehU"
      },
      "source": [
        "3. Write a `verifyStack()` function that will take in `my_stack` and check if its format has been followed `(10 points)`\n",
        "\n",
        "- Return **True** if the format has been followed\n",
        "- Return **False** if the format was not followed\n",
        "- Verify the format by checking the contents of **my_stack** with **name_stack** and **num_stack**\n",
        "\n",
        "    **Expected Output:**\n",
        "\n",
        "    my_stack = [1, E, L, I, Z, E, R, 6]\n",
        "\n",
        "    verifyStack(my_stack)\n",
        "\n",
        "    True\n",
        "\n",
        "    my_stack = [1, S, L, I, Z, E, R, 7]\n",
        "\n",
        "    verifyStack(my_stack)\n",
        "\n",
        "    False"
      ]
    },
    {
      "cell_type": "code",
      "execution_count": 62,
      "metadata": {
        "id": "RdANSxD0FehU",
        "colab": {
          "base_uri": "https://localhost:8080/"
        },
        "outputId": "af41cff2-6478-4284-cb4e-57645c503348"
      },
      "outputs": [
        {
          "output_type": "stream",
          "name": "stdout",
          "text": [
            "verifyStack(my_stack1) Output: True\n",
            "verifyStack(my_stack2) Output: False\n"
          ]
        }
      ],
      "source": [
        "# put your answer here\n",
        "def verifyStack(my_stack):\n",
        "\n",
        "    last_digit = int(str(my_stack[-1]))\n",
        "\n",
        "    characters = my_stack[1:-1]\n",
        "\n",
        "    return last_digit == 1 and characters == name_stack\n",
        "\n",
        "my_stack1 = [1, 'G', 'I', 'A', 'N', 1]\n",
        "print(\"verifyStack(my_stack1) Output:\", verifyStack(my_stack1))\n",
        "\n",
        "my_stack2 = [1, 'N', 'A', 'G', 'I', 6]\n",
        "print(\"verifyStack(my_stack2) Output:\", verifyStack(my_stack2))"
      ]
    },
    {
      "cell_type": "markdown",
      "metadata": {
        "id": "UC5C64B2FehU"
      },
      "source": [
        "## Queue"
      ]
    },
    {
      "cell_type": "code",
      "execution_count": 55,
      "metadata": {
        "id": "NJJ0j0LHFehU"
      },
      "outputs": [],
      "source": [
        "class Queue:\n",
        "    def __init__(self):\n",
        "        self.queue = []\n",
        "\n",
        "    # Add an element\n",
        "    def enqueue(self, item):\n",
        "        self.queue.append(item)\n",
        "\n",
        "    # Remove an element\n",
        "    def dequeue(self):\n",
        "        if len(self.queue) < 1:\n",
        "            return None\n",
        "        return self.queue.pop(0)\n",
        "\n",
        "    # Display  the queue\n",
        "    def display(self):\n",
        "        print(self.queue)\n",
        "\n",
        "    def size(self):\n",
        "        return len(self.queue)\n",
        "\n",
        "    def peek(self):\n",
        "        return self.queue[0]"
      ]
    },
    {
      "cell_type": "markdown",
      "metadata": {
        "id": "80OekpbeFehV"
      },
      "source": [
        "**Instructions** ❗️❗️\n",
        "\n",
        "Use the pre-defined queue class/functions to create a Queue"
      ]
    },
    {
      "cell_type": "markdown",
      "metadata": {
        "id": "_Hf0OP5cFehV"
      },
      "source": [
        "1. Create a simple queue named **num_queue** `(5 points)`\n",
        "\n",
        "- **num_queue** should contain all digits of your student number.\n",
        "\n",
        "    **Expected Output:**\n",
        "\n",
        "    print(num_queue)\n",
        "\n",
        "    [2,0,2,2,1,2,3,4,5,6]"
      ]
    },
    {
      "cell_type": "code",
      "execution_count": 56,
      "metadata": {
        "id": "_mgmE4ArFehV",
        "colab": {
          "base_uri": "https://localhost:8080/"
        },
        "outputId": "326a727c-5ee9-44b1-cb60-5b0264315cd6"
      },
      "outputs": [
        {
          "output_type": "stream",
          "name": "stdout",
          "text": [
            "[2, 0, 2, 2, 1, 0, 3, 4, 2, 1]\n"
          ]
        }
      ],
      "source": [
        "# put your answer here\n",
        "num_queue = Queue()\n",
        "\n",
        "student_number = [2, 0, 2, 2, 1, 0, 3, 4, 2, 1]\n",
        "\n",
        "for digit in student_number:\n",
        "    num_queue.enqueue(digit)\n",
        "\n",
        "num_queue.display()"
      ]
    },
    {
      "cell_type": "markdown",
      "metadata": {
        "id": "1pHG8t6DFehV"
      },
      "source": [
        "2. Write a `getMax()` or `getMin()` function for **num_queue** `(5 points)`\n",
        "\n",
        "- If your student number ends with an odd number, create a `getMax()` function that will return the largest number in **num_queue**\n",
        "- If your student number ends with an even number, create a `getMin()` function that will return the lowest number in **num_queue**\n",
        "\n",
        "    **Expected Output for getMax():**\n",
        "\n",
        "    getMax(num_queue)\n",
        "\n",
        "    6\n",
        "\n",
        "    **Expected Output for getMin():**\n",
        "\n",
        "    getMin(num_queue)\n",
        "\n",
        "    0"
      ]
    },
    {
      "cell_type": "code",
      "execution_count": 57,
      "metadata": {
        "id": "itj2U610FehV",
        "colab": {
          "base_uri": "https://localhost:8080/"
        },
        "outputId": "3c66ebba-58c8-4bae-889e-4166bbe8ffff"
      },
      "outputs": [
        {
          "output_type": "stream",
          "name": "stdout",
          "text": [
            "getMax(num_queue): 4\n"
          ]
        }
      ],
      "source": [
        "# put your answer here\n",
        "# Student Number: 2022-103421\n",
        "\n",
        "def getMax(num_queue):\n",
        "    max_value = float('-inf')\n",
        "    while num_queue.queue:\n",
        "        item = num_queue.dequeue()\n",
        "        max_value = max(max_value, item)\n",
        "    return max_value\n",
        "\n",
        "def getMin(num_queue):\n",
        "    min_value = float('inf')\n",
        "    while num_queue.queue:\n",
        "        item = num_queue.dequeue()\n",
        "        min_value = min(min_value, item)\n",
        "    return min_value\n",
        "\n",
        "\n",
        "num_queue = Queue()\n",
        "student_number = [2, 0, 2, 2, 1, 0, 3, 4, 2, 1]\n",
        "for digit in student_number:\n",
        "    num_queue.enqueue(digit)\n",
        "\n",
        "\n",
        "last_digit = student_number[-1]\n",
        "\n",
        "if last_digit % 2 == 1:\n",
        "    result = getMax(num_queue)\n",
        "    print(\"getMax(num_queue):\", result)\n",
        "else:\n",
        "    result = getMin(num_queue)\n",
        "    print(\"getMin(num_queue):\", result)"
      ]
    },
    {
      "cell_type": "markdown",
      "metadata": {
        "id": "YkgmP6GwFehV"
      },
      "source": [
        "3. Write a `getOdd()` or `getEven()` function for  **num_queue** `(5 points)`\n",
        "\n",
        "- If your student number ends with an **odd number**, create a `getOdd()` function that will return all odd numbers in **num_queue**\n",
        "- If your student number ends with an **even number**, create a `getEven()` function that will return all even numbers in **num_queue**\n",
        "\n",
        "    **Expected Output for getOdd():**\n",
        "\n",
        "    getOdd(num_queue)\n",
        "\n",
        "    [1, 3, 5]\n",
        "\n",
        "    **Expected Output for getEven():**\n",
        "\n",
        "    getEven(num_queue)\n",
        "\n",
        "    [0, 2, 4, 6]"
      ]
    },
    {
      "cell_type": "code",
      "execution_count": 58,
      "metadata": {
        "id": "2Bc7E1zNFehV",
        "colab": {
          "base_uri": "https://localhost:8080/"
        },
        "outputId": "5caf5433-0e8f-44ae-919e-2836f03e3f83"
      },
      "outputs": [
        {
          "output_type": "stream",
          "name": "stdout",
          "text": [
            "getOdd(num_queue): [1, 3, 1]\n"
          ]
        }
      ],
      "source": [
        "# put your answer here\n",
        "def getOdd(num_queue):\n",
        "    odd_numbers = []\n",
        "    for item in num_queue.queue:\n",
        "        if item % 2 == 1:\n",
        "            odd_numbers.append(item)\n",
        "    return odd_numbers\n",
        "\n",
        "def getEven(num_queue):\n",
        "    even_numbers = []\n",
        "    for item in num_queue.queue:\n",
        "        if item % 2 == 0:\n",
        "            even_numbers.append(item)\n",
        "    return even_numbers\n",
        "\n",
        "num_queue = Queue()\n",
        "student_number = [2, 0, 2, 2, 1, 0, 3, 4, 2, 1]\n",
        "for digit in student_number:\n",
        "    num_queue.enqueue(digit)\n",
        "\n",
        "last_digit = student_number[-1]\n",
        "\n",
        "if last_digit % 2 == 1:\n",
        "    result = getOdd(num_queue)\n",
        "    print(\"getOdd(num_queue):\", result)\n",
        "else:\n",
        "    result = getEven(num_queue)\n",
        "    print(\"getEven(num_queue):\", result)"
      ]
    },
    {
      "cell_type": "markdown",
      "metadata": {
        "id": "kuzWF5g4FehV"
      },
      "source": [
        "4. Write a `removeDup()` function that will remove all duplicates in **num_queue** `(5 points)`\n",
        "\n",
        "    **Expected Output:**\n",
        "\n",
        "    removeDup(num_queue)\n",
        "\n",
        "    [2,0,1,3,4,5,6]"
      ]
    },
    {
      "cell_type": "code",
      "execution_count": 59,
      "metadata": {
        "id": "I8LeQP8MFehY",
        "colab": {
          "base_uri": "https://localhost:8080/"
        },
        "outputId": "6342971f-a375-4e07-e197-ae5e3f590f59"
      },
      "outputs": [
        {
          "output_type": "stream",
          "name": "stdout",
          "text": [
            "[2, 0, 2, 2, 1, 0, 3, 4, 2, 1]\n",
            "Original before removeDup: None\n",
            "[2, 0, 1, 3, 4]\n",
            "Output after removeDup: None\n"
          ]
        }
      ],
      "source": [
        "# put your answer here\n",
        "def removeDup(num_queue):\n",
        "    unique_numbers = set()\n",
        "    new_queue = Queue()\n",
        "\n",
        "    while num_queue.size() > 0:\n",
        "        item = num_queue.dequeue()\n",
        "        if item not in unique_numbers:\n",
        "            unique_numbers.add(item)\n",
        "            new_queue.enqueue(item)\n",
        "\n",
        "    return new_queue\n",
        "\n",
        "num_queue = Queue()\n",
        "student_number = [2, 0, 2, 2, 1, 0, 3, 4, 2, 1]\n",
        "for digit in student_number:\n",
        "    num_queue.enqueue(digit)\n",
        "\n",
        "print(\"Original before removeDup:\", num_queue.display())\n",
        "\n",
        "num_queue = removeDup(num_queue)\n",
        "\n",
        "print(\"Output after removeDup:\", num_queue.display())"
      ]
    },
    {
      "cell_type": "markdown",
      "metadata": {
        "id": "LVfZTh8YFehZ"
      },
      "source": [
        "## Sort"
      ]
    },
    {
      "cell_type": "markdown",
      "metadata": {
        "id": "bm9lonfzFehZ"
      },
      "source": [
        "**Instructions** ❗️❗️\n",
        "\n",
        "Use the any sorting algoritms"
      ]
    },
    {
      "cell_type": "markdown",
      "metadata": {
        "id": "EJTlxhEdFehZ"
      },
      "source": [
        "1. Using any sorting algorithm, sort the **last 6 digits** of your student number in ascending order `(5 points)`\n",
        "\n",
        "    **Example:**\n",
        "\n",
        "    student_number = [2,0,2,2,6,2,5,1,3,4]\n",
        "\n",
        "    **Expected Output:**\n",
        "\n",
        "    print(student_number)\n",
        "\n",
        "    [2,0,2,2,1,2,3,4,5,6]\n"
      ]
    },
    {
      "cell_type": "code",
      "execution_count": 60,
      "metadata": {
        "id": "MkZKfveOFehZ",
        "outputId": "3a5aa5e3-ee64-49be-8465-62832047d426",
        "colab": {
          "base_uri": "https://localhost:8080/"
        }
      },
      "outputs": [
        {
          "output_type": "stream",
          "name": "stdout",
          "text": [
            "[2, 0, 2, 2, 1, 0, 3, 2, 4, 1]\n"
          ]
        }
      ],
      "source": [
        "student_number = [2, 0, 2, 2, 1, 0, 3, 2, 4, 1]\n",
        "\n",
        "even_numbers = [(i, num) for i, num in enumerate(student_number) if num % 2 == 0]\n",
        "odd_numbers = [(i, num) for i, num in enumerate(student_number) if num % 2 != 0]\n",
        "\n",
        "even_numbers.sort(key=lambda x: x[1])\n",
        "odd_numbers.sort(key=lambda x: x[1], reverse=True)\n",
        "\n",
        "for i, num in even_numbers:\n",
        "    student_number[i] = num\n",
        "\n",
        "for i, num in odd_numbers:\n",
        "    student_number[i] = num\n",
        "\n",
        "print(student_number)"
      ]
    },
    {
      "cell_type": "markdown",
      "metadata": {
        "id": "sC2JZRZMFehZ"
      },
      "source": [
        "2. Using your student_number, separately sort the even numbers in **increasing order** and the odd numbers in **decreasing order** `(15 points)`\n",
        "\n",
        "    **Example:**\n",
        "\n",
        "    student_number = [2,0,2,2,1,2,3,4,5,6]\n",
        "\n",
        "    **Expected Output:**\n",
        "\n",
        "    print(student_number)\n",
        "\n",
        "    [0,2,2,2,2,4,6,5,3,1]"
      ]
    },
    {
      "cell_type": "code",
      "execution_count": 61,
      "metadata": {
        "id": "hWOh_ohcFehZ",
        "outputId": "33196c86-8c17-4163-9183-a6822f53318b",
        "colab": {
          "base_uri": "https://localhost:8080/"
        }
      },
      "outputs": [
        {
          "output_type": "stream",
          "name": "stdout",
          "text": [
            "[0, 0, 2, 2, 3, 2, 1, 2, 4, 1]\n"
          ]
        }
      ],
      "source": [
        "# put your answer here\n",
        "student_number = [2, 0, 2, 2, 1, 0, 3, 2, 4, 1]\n",
        "\n",
        "even_numbers = [num for num in student_number if num % 2 == 0]\n",
        "odd_numbers = [num for num in student_number if num % 2 != 0]\n",
        "\n",
        "even_numbers.sort()\n",
        "odd_numbers.sort(reverse=True)\n",
        "\n",
        "sorted_student_number = [even_numbers.pop(0) if num % 2 == 0 else odd_numbers.pop(0) for num in student_number]\n",
        "\n",
        "print(sorted_student_number)"
      ]
    }
  ],
  "metadata": {
    "kernelspec": {
      "display_name": "Python 3",
      "language": "python",
      "name": "python3"
    },
    "language_info": {
      "codemirror_mode": {
        "name": "ipython",
        "version": 3
      },
      "file_extension": ".py",
      "mimetype": "text/x-python",
      "name": "python",
      "nbconvert_exporter": "python",
      "pygments_lexer": "ipython3",
      "version": "3.9.13"
    },
    "orig_nbformat": 4,
    "colab": {
      "provenance": [],
      "include_colab_link": true
    }
  },
  "nbformat": 4,
  "nbformat_minor": 0
}