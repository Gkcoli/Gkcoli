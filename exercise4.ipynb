{
  "cells": [
    {
      "cell_type": "markdown",
      "metadata": {
        "id": "view-in-github",
        "colab_type": "text"
      },
      "source": [
        "<a href=\"https://colab.research.google.com/github/Gkcoli/Gkcoli/blob/main/exercise4.ipynb\" target=\"_parent\"><img src=\"https://colab.research.google.com/assets/colab-badge.svg\" alt=\"Open In Colab\"/></a>"
      ]
    },
    {
      "cell_type": "markdown",
      "metadata": {
        "id": "fCO3VeNzvGDc"
      },
      "source": [
        "# Exercise 4"
      ]
    },
    {
      "cell_type": "markdown",
      "metadata": {
        "id": "UCFGr2qPKONg"
      },
      "source": [
        "#### Pre-defined sorting algorithms"
      ]
    },
    {
      "cell_type": "code",
      "execution_count": 1,
      "metadata": {
        "id": "dXWXOLWtKONg"
      },
      "outputs": [],
      "source": [
        "def mergeSort(array):\n",
        "    if len(array) > 1:\n",
        "\n",
        "        #  r is the point where the array is divided into two subarrays\n",
        "        r = len(array)//2\n",
        "        L = array[:r]\n",
        "        M = array[r:]\n",
        "\n",
        "        # Sort the two halves\n",
        "        mergeSort(L)\n",
        "        mergeSort(M)\n",
        "\n",
        "        i = j = k = 0\n",
        "\n",
        "        # Until we reach either end of either L or M, pick larger among\n",
        "        # elements L and M and place them in the correct position at A[p..r]\n",
        "        while i < len(L) and j < len(M):\n",
        "            if L[i] < M[j]:\n",
        "                array[k] = L[i]\n",
        "                i += 1\n",
        "            else:\n",
        "                array[k] = M[j]\n",
        "                j += 1\n",
        "            k += 1\n",
        "\n",
        "        # When we run out of elements in either L or M,\n",
        "        # pick up the remaining elements and put in A[p..r]\n",
        "        while i < len(L):\n",
        "            array[k] = L[i]\n",
        "            i += 1\n",
        "            k += 1\n",
        "\n",
        "        while j < len(M):\n",
        "            array[k] = M[j]\n",
        "            j += 1\n",
        "            k += 1\n",
        "\n",
        "# Print the array\n",
        "def printList(array):\n",
        "    for i in range(len(array)):\n",
        "        print(array[i], end=\" \")\n",
        "    print()"
      ]
    },
    {
      "cell_type": "code",
      "execution_count": 2,
      "metadata": {
        "id": "OB-JMVxvKONi"
      },
      "outputs": [],
      "source": [
        "def countingSort(array):\n",
        "    size = len(array)\n",
        "    output = [0] * size\n",
        "\n",
        "    # Initialize count array\n",
        "    count = [0] * 10\n",
        "\n",
        "    # Store the count of each elements in count array\n",
        "    for i in range(0, size):\n",
        "        count[array[i]] += 1\n",
        "\n",
        "    # Store the cummulative count\n",
        "    for i in range(1, 10):\n",
        "        count[i] += count[i - 1]\n",
        "\n",
        "    # Find the index of each element of the original array in count array\n",
        "    # place the elements in output array\n",
        "    i = size - 1\n",
        "    while i >= 0:\n",
        "        output[count[array[i]] - 1] = array[i]\n",
        "        count[array[i]] -= 1\n",
        "        i -= 1\n",
        "\n",
        "    # Copy the sorted elements into original array\n",
        "    for i in range(0, size):\n",
        "        array[i] = output[i]"
      ]
    },
    {
      "cell_type": "code",
      "execution_count": 3,
      "metadata": {
        "id": "VXaukk4_KONj"
      },
      "outputs": [],
      "source": [
        "def insertionSort(array):\n",
        "\n",
        "    for step in range(1, len(array)):\n",
        "        key = array[step]\n",
        "        j = step - 1\n",
        "\n",
        "        # Compare key with each element on the left of it until an element smaller than it is found\n",
        "        # For descending order, change key<array[j] to key>array[j].\n",
        "        while j >= 0 and key < array[j]:\n",
        "            array[j + 1] = array[j]\n",
        "            j = j - 1\n",
        "\n",
        "        # Place key at after the element just smaller than it.\n",
        "        array[j + 1] = key"
      ]
    },
    {
      "cell_type": "code",
      "execution_count": 4,
      "metadata": {
        "id": "b4yWHH1nKONj"
      },
      "outputs": [],
      "source": [
        "# Bubble sort in Python\n",
        "def bubbleSort(array):\n",
        "\n",
        "  # loop to access each array element\n",
        "  for i in range(len(array)):\n",
        "\n",
        "    # loop to compare array elements\n",
        "    for j in range(0, len(array) - i - 1):\n",
        "\n",
        "      # compare two adjacent elements\n",
        "      # change > to < to sort in descending order\n",
        "      if array[j] > array[j + 1]:\n",
        "\n",
        "        # swapping elements if elements\n",
        "        # are not in the intended order\n",
        "        temp = array[j]\n",
        "        array[j] = array[j+1]\n",
        "        array[j+1] = temp"
      ]
    },
    {
      "cell_type": "markdown",
      "metadata": {
        "id": "6j9PZVsyvGDe"
      },
      "source": [
        "#### 1. Sort your **student number** in **ascending order**\n",
        "\n",
        "Example:\n",
        "\n",
        "**Input: 2022123456**\n",
        "\n",
        "**Output: 0122223456**"
      ]
    },
    {
      "cell_type": "code",
      "execution_count": 5,
      "metadata": {
        "id": "UuNMRCm3vGDe",
        "colab": {
          "base_uri": "https://localhost:8080/"
        },
        "outputId": "dfff28d4-4e43-4dfe-c92e-858259610e3c"
      },
      "outputs": [
        {
          "output_type": "stream",
          "name": "stdout",
          "text": [
            "Sorted student numbers in ascending order: [0, 0, 1, 1, 2, 2, 2, 2, 3, 4]\n"
          ]
        }
      ],
      "source": [
        "def bubble_sort(student_numbers):\n",
        "    n = len(student_numbers)\n",
        "\n",
        "    for i in range(n):\n",
        "        swapped = False\n",
        "\n",
        "        for j in range(0, n - i - 1):\n",
        "            if student_numbers[j] > student_numbers[j + 1]:\n",
        "\n",
        "                student_numbers[j], student_numbers[j + 1] = student_numbers[j + 1], student_numbers[j]\n",
        "                swapped = True\n",
        "\n",
        "\n",
        "        if not swapped:\n",
        "            break\n",
        "\n",
        "\n",
        "student_numbers = [2, 0, 2, 2, 1, 0, 3, 2, 4, 1]\n",
        "\n",
        "\n",
        "bubble_sort(student_numbers)\n",
        "print(\"Sorted student numbers in ascending order:\", student_numbers)"
      ]
    },
    {
      "cell_type": "markdown",
      "metadata": {
        "id": "felukBjnvGDf"
      },
      "source": [
        "#### 2. Sort the **dates** in **ascending order**.\n",
        "\n",
        "dates = [\"12-25-2023\", birthday, \"01-01-2023\"]\n",
        "\n",
        "Enter your birthday in the birthday variable."
      ]
    },
    {
      "cell_type": "code",
      "execution_count": 6,
      "metadata": {
        "id": "f8xQ3N0jvGDg",
        "colab": {
          "base_uri": "https://localhost:8080/"
        },
        "outputId": "b6d40ca4-f7f7-4ad3-e113-fa9edce94107"
      },
      "outputs": [
        {
          "output_type": "stream",
          "name": "stdout",
          "text": [
            "Sorted dates in ascending order: ['12-10-2003', '01-01-2023', '12-25-2023']\n"
          ]
        }
      ],
      "source": [
        "birthday = \"12-10-2003\"\n",
        "\n",
        "\n",
        "dates = [birthday, \"01-01-2023\", \"12-25-2023\"]\n",
        "\n",
        "def date_to_numeric(date):\n",
        "\n",
        "    parts = date.split(\"-\")\n",
        "    return int(parts[2]) * 10000 + int(parts[0]) * 100 + int(parts[1])\n",
        "\n",
        "def selection_sort(dates):\n",
        "    n = len(dates)\n",
        "\n",
        "    for i in range(n):\n",
        "        min_index = i\n",
        "\n",
        "        for j in range(i + 1, n):\n",
        "            if date_to_numeric(dates[j]) < date_to_numeric(dates[min_index]):\n",
        "                min_index = j\n",
        "\n",
        "        dates[i], dates[min_index] = dates[min_index], dates[i]\n",
        "\n",
        "selection_sort(dates)\n",
        "\n",
        "\n",
        "print(\"Sorted dates in ascending order:\", dates)"
      ]
    },
    {
      "cell_type": "markdown",
      "metadata": {
        "id": "IFDPeGZxvGDg"
      },
      "source": [
        "#### 3. Count the **total number of swaps** to sort the list below using **Bubble Sort**\n",
        "\n",
        "|3|2|5|1|4|\n",
        "|---|----|---|---|---|"
      ]
    },
    {
      "cell_type": "code",
      "execution_count": 7,
      "metadata": {
        "id": "b1ppwLcevGDg",
        "outputId": "acee2aea-e2de-4108-ca57-cadef0d92712",
        "colab": {
          "base_uri": "https://localhost:8080/"
        }
      },
      "outputs": [
        {
          "output_type": "stream",
          "name": "stdout",
          "text": [
            "Sorted list: [1, 2, 3, 4, 5]\n",
            "Total number of swaps: 5\n"
          ]
        }
      ],
      "source": [
        "# put your answer here\n",
        "def bubble_sort(arr):\n",
        "    n = len(arr)\n",
        "    swaps = 0\n",
        "\n",
        "    for i in range(n):\n",
        "        swapped = False\n",
        "\n",
        "        for j in range(0, n - i - 1):\n",
        "            if arr[j] > arr[j + 1]:\n",
        "                arr[j], arr[j + 1] = arr[j + 1], arr[j]\n",
        "                swapped = True\n",
        "                swaps += 1\n",
        "\n",
        "\n",
        "        if not swapped:\n",
        "            break\n",
        "\n",
        "    return swaps\n",
        "\n",
        "\n",
        "arr = [3, 2, 5, 1, 4]\n",
        "\n",
        "totalswaps = bubble_sort(arr)\n",
        "\n",
        "print(\"Sorted list:\", arr)\n",
        "print(\"Total number of swaps:\", totalswaps)"
      ]
    },
    {
      "cell_type": "markdown",
      "metadata": {
        "id": "iO2UusQWvGDi"
      },
      "source": [
        "#### 4. Count the **total number of steps** to sort the list below using **Insertion Sort**\n",
        "\n",
        "\n",
        "|6|2|5|7|4|1|8|9|3|\n",
        "|---|---|---|---|---|---|---|---|---|"
      ]
    },
    {
      "cell_type": "code",
      "execution_count": 8,
      "metadata": {
        "id": "vq1PYEjmvGDi",
        "outputId": "f71db50a-d493-42bb-d17c-dff41d9f9513",
        "colab": {
          "base_uri": "https://localhost:8080/"
        }
      },
      "outputs": [
        {
          "output_type": "stream",
          "name": "stdout",
          "text": [
            "Total number of steps: 24\n"
          ]
        }
      ],
      "source": [
        "def insertionSort(array):\n",
        "    steps = 0\n",
        "    for step in range(1, len(array)):\n",
        "        key = array[step]\n",
        "        j = step - 1\n",
        "\n",
        "        while j >= 0 and key < array[j]:\n",
        "            array[j + 1] = array[j]\n",
        "            j = j - 1\n",
        "            steps += 1\n",
        "\n",
        "        array[j + 1] = key\n",
        "        steps += 1\n",
        "\n",
        "    return steps\n",
        "\n",
        "my_list = [6, 2, 5, 7, 4, 1, 8, 9, 3]\n",
        "\n",
        "\n",
        "number_of_steps = insertionSort(my_list)\n",
        "\n",
        "print(\"Total number of steps:\", number_of_steps)\n"
      ]
    },
    {
      "cell_type": "markdown",
      "metadata": {
        "id": "jpfNCCdbvGDj"
      },
      "source": [
        "#### 5. Given the list below:\n",
        "\n",
        "\n",
        "|7|5|4|3|2|5|1|8|\n",
        "|---|---|---|---|---|---|---|---|\n",
        "\n",
        "Using **merge sort** and **counting sort**\n",
        "\n",
        "Determine which sorting algorithm is faster by counting the total number of steps for each algorithm\n"
      ]
    },
    {
      "cell_type": "code",
      "execution_count": 9,
      "metadata": {
        "id": "2YVK17cSvGDj",
        "outputId": "e667fb82-0ae9-47aa-d97d-851fdb2b8519",
        "colab": {
          "base_uri": "https://localhost:8080/"
        }
      },
      "outputs": [
        {
          "output_type": "stream",
          "name": "stdout",
          "text": [
            "Merge Sort Steps: 24\n",
            "Counting Sort Steps: 8\n"
          ]
        }
      ],
      "source": [
        "# Merge Sort\n",
        "def merge_sort(arr):\n",
        "    if len(arr) <= 1:\n",
        "        return arr\n",
        "\n",
        "    mid = len(arr) // 2\n",
        "    left_half = arr[:mid]\n",
        "    right_half = arr[mid:]\n",
        "\n",
        "\n",
        "    left_half = merge_sort(left_half)\n",
        "    right_half = merge_sort(right_half)\n",
        "\n",
        "    merged_arr = merge(left_half, right_half)\n",
        "    return merged_arr\n",
        "\n",
        "def merge(left, right):\n",
        "    merged = []\n",
        "    i = j = 0\n",
        "\n",
        "    while i < len(left) and j < len(right):\n",
        "        if left[i] < right[j]:\n",
        "            merged.append(left[i])\n",
        "            i += 1\n",
        "        else:\n",
        "            merged.append(right[j])\n",
        "            j += 1\n",
        "\n",
        "\n",
        "    merged.extend(left[i:])\n",
        "    merged.extend(right[j:])\n",
        "    return merged\n",
        "\n",
        "# Counting Sort\n",
        "def counting_sort(arr):\n",
        "    max_val = max(arr)\n",
        "    min_val = min(arr)\n",
        "    range_of_values = max_val - min_val + 1\n",
        "\n",
        "    count_array = [0] * range_of_values\n",
        "    output_array = [0] * len(arr)\n",
        "\n",
        "\n",
        "    for num in arr:\n",
        "        count_array[num - min_val] += 1\n",
        "\n",
        "    for i in range(1, len(count_array)):\n",
        "        count_array[i] += count_array[i - 1]\n",
        "\n",
        "    for num in arr[::-1]:\n",
        "        output_array[count_array[num - min_val] - 1] = num\n",
        "        count_array[num - min_val] -= 1\n",
        "\n",
        "    return output_array\n",
        "\n",
        "# Input list\n",
        "arr = [7, 5, 4, 3, 2, 5, 1, 8]\n",
        "\n",
        "# Count steps for Merge Sort\n",
        "def count_steps_merge_sort(arr):\n",
        "    global merge_sort_steps\n",
        "    merge_sort_steps = 0\n",
        "\n",
        "    def merge_sort_steps_helper(arr):\n",
        "        if len(arr) <= 1:\n",
        "            return arr\n",
        "\n",
        "        mid = len(arr) // 2\n",
        "        left_half = arr[:mid]\n",
        "        right_half = arr[mid:]\n",
        "\n",
        "        merge_sort_steps_helper(left_half)\n",
        "        merge_sort_steps_helper(right_half)\n",
        "\n",
        "        merge(left_half, right_half)\n",
        "        global merge_sort_steps\n",
        "        merge_sort_steps += len(arr)\n",
        "\n",
        "    merge_sort_steps_helper(arr)\n",
        "\n",
        "count_steps_merge_sort(arr)\n",
        "print(f\"Merge Sort Steps: {merge_sort_steps}\")\n",
        "\n",
        "# Count steps for Counting Sort\n",
        "def count_steps_counting_sort(arr):\n",
        "    global counting_sort_steps\n",
        "    counting_sort_steps = len(arr)\n",
        "\n",
        "count_steps_counting_sort(arr)\n",
        "print(f\"Counting Sort Steps: {counting_sort_steps}\")\n"
      ]
    }
  ],
  "metadata": {
    "colab": {
      "provenance": [],
      "include_colab_link": true
    },
    "kernelspec": {
      "display_name": "Python 3",
      "language": "python",
      "name": "python3"
    },
    "language_info": {
      "codemirror_mode": {
        "name": "ipython",
        "version": 3
      },
      "file_extension": ".py",
      "mimetype": "text/x-python",
      "name": "python",
      "nbconvert_exporter": "python",
      "pygments_lexer": "ipython3",
      "version": "3.11.4"
    },
    "orig_nbformat": 4
  },
  "nbformat": 4,
  "nbformat_minor": 0
}