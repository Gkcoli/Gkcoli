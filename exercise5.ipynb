{
  "cells": [
    {
      "cell_type": "markdown",
      "metadata": {
        "id": "view-in-github",
        "colab_type": "text"
      },
      "source": [
        "<a href=\"https://colab.research.google.com/github/Gkcoli/Gkcoli/blob/main/exercise5.ipynb\" target=\"_parent\"><img src=\"https://colab.research.google.com/assets/colab-badge.svg\" alt=\"Open In Colab\"/></a>"
      ]
    },
    {
      "cell_type": "markdown",
      "metadata": {
        "id": "D8c8rKOJCwul"
      },
      "source": [
        "# Exercise 5"
      ]
    },
    {
      "cell_type": "markdown",
      "metadata": {
        "id": "ix_muNr0Cwuv"
      },
      "source": [
        "#### 1. Create a dictionary of your 10 favorite songs."
      ]
    },
    {
      "cell_type": "markdown",
      "metadata": {
        "id": "7hswOoVPCwux"
      },
      "source": [
        "Example:\n",
        "\n",
        "|KEY|VALUE|\n",
        "|---|---|\n",
        "|001|My Love|\n",
        "|002|Like a rose|"
      ]
    },
    {
      "cell_type": "code",
      "execution_count": 13,
      "metadata": {
        "id": "soAt3Rt-Cwuz"
      },
      "outputs": [],
      "source": [
        "# put your answer here\n",
        "myplaylist = {\n",
        "\"001\" : \"LOCO\",\n",
        "\"002\" : \"Smooth Operator\",\n",
        "\"003\" : \"Every Breath You Take\",\n",
        "\"004\" : \"Snooze\",\n",
        "\"005\" : \"Ere\",\n",
        "\"006\" : \"Max 33\",\n",
        "\"007\" : \"On Bended Knees\",\n",
        "\"008\" : \"Bad\",\n",
        "\"009\" : \"Livin on a Prayer\",\n",
        "\"010\" : \"Dancing Queen\",\n",
        "\n",
        "}"
      ]
    },
    {
      "cell_type": "markdown",
      "metadata": {
        "id": "M-WoLsaPCwu2"
      },
      "source": [
        "#### 2. Loop through the dictionary by its **key** and **value**"
      ]
    },
    {
      "cell_type": "code",
      "execution_count": 14,
      "metadata": {
        "id": "IUTk4hpfCwu4",
        "outputId": "1b619a67-5f07-49ed-eab7-b91b15b9d98e",
        "colab": {
          "base_uri": "https://localhost:8080/"
        }
      },
      "outputs": [
        {
          "output_type": "stream",
          "name": "stdout",
          "text": [
            "{'001': 'LOCO', '002': 'Smooth Operator', '003': 'Every Breath You Take', '004': 'Snooze', '005': 'Ere', '006': 'Max 33', '007': 'On Bended Knees', '008': 'Bad', '009': 'Livin on a Prayer', '010': 'Dancing Queen'}\n"
          ]
        }
      ],
      "source": [
        "# put your answer here\n",
        "print(myplaylist)"
      ]
    },
    {
      "cell_type": "markdown",
      "metadata": {
        "id": "nytE4zClCwu5"
      },
      "source": [
        "#### 3. Add one additional song"
      ]
    },
    {
      "cell_type": "code",
      "execution_count": 15,
      "metadata": {
        "id": "xbvBFv0UCwu7",
        "outputId": "7f7385fd-37b6-4d5e-e119-fc0852274258",
        "colab": {
          "base_uri": "https://localhost:8080/"
        }
      },
      "outputs": [
        {
          "output_type": "execute_result",
          "data": {
            "text/plain": [
              "{'001': 'LOCO',\n",
              " '002': 'Smooth Operator',\n",
              " '003': 'Every Breath You Take',\n",
              " '004': 'Snooze',\n",
              " '005': 'Ere',\n",
              " '006': 'Max 33',\n",
              " '007': 'On Bended Knees',\n",
              " '008': 'Bad',\n",
              " '009': 'Livin on a Prayer',\n",
              " '010': 'Dancing Queen',\n",
              " '011': 'Dutch National Anthem'}"
            ]
          },
          "metadata": {},
          "execution_count": 15
        }
      ],
      "source": [
        "# put your answer here\n",
        "myplaylist[\"011\"] = \"Dutch National Anthem\"\n",
        "myplaylist"
      ]
    },
    {
      "cell_type": "markdown",
      "metadata": {
        "id": "JJGWeRBfCwu8"
      },
      "source": [
        "#### 4. Remove one song"
      ]
    },
    {
      "cell_type": "code",
      "execution_count": 18,
      "metadata": {
        "id": "nxAiqM-_Cwu9",
        "outputId": "a0b60631-8b6e-497a-e18b-79b82ff45842",
        "colab": {
          "base_uri": "https://localhost:8080/"
        }
      },
      "outputs": [
        {
          "output_type": "execute_result",
          "data": {
            "text/plain": [
              "{'001': 'LOCO',\n",
              " '002': 'Smooth Operator',\n",
              " '003': 'Every Breath You Take',\n",
              " '004': 'Snooze',\n",
              " '005': 'Ere',\n",
              " '006': 'Max 33',\n",
              " '007': 'On Bended Knees',\n",
              " '008': 'Bad',\n",
              " '009': 'Livin on a Prayer',\n",
              " '010': 'Dancing Queen'}"
            ]
          },
          "metadata": {},
          "execution_count": 18
        }
      ],
      "source": [
        "# put your answer here\n",
        "myplaylist.pop(\"011\")\n",
        "myplaylist"
      ]
    },
    {
      "cell_type": "markdown",
      "metadata": {
        "id": "1gnTvWs9Cwu_"
      },
      "source": [
        "#### 5. Create a nested dictionary of your 10 favorite songs with 5 genres. Display all of the items of the nested dictionary\n",
        "\n",
        "- Each nested dictionary's key should be the genre of the song\n",
        "- Put each song in their respective genre"
      ]
    },
    {
      "cell_type": "markdown",
      "metadata": {
        "id": "2dhHJq01CwvA"
      },
      "source": [
        "Example:\n",
        "\n",
        "\n",
        "|KEY|VALUE|\n",
        "|---|---|\n",
        "|Pop|{001, Baby}|\n",
        "|Rock|{001, Enter Sandman}|"
      ]
    },
    {
      "cell_type": "code",
      "execution_count": null,
      "metadata": {
        "id": "AyCxkHW0CwvA"
      },
      "outputs": [],
      "source": [
        "# put your answer here\n",
        "myplaylist={\n",
        "\"KPOP\" : {\"001\": \"LOCO\", \"002\": \"Alcohol-Free\"\n",
        "},\n",
        "\"ROCK\" : {\"001\": \"Livin on a Prayer\", \"002\": \"Sweet Child\"\n",
        "},\n",
        "\"RnB\"  : {\"001\": \"On Bended Knees\", \"002\": \"No Matter\"\n",
        "},\n",
        "\"80/90's POP\" : {\"001\": \"Smooth Operator\", \"002\": \"Bad\"\n",
        "},\n",
        "\"OPM\" : {\"001\" : \"ERE\", \"002\": \"UHAW\"\n",
        "}"
      ]
    },
    {
      "cell_type": "markdown",
      "metadata": {
        "id": "msHCkZj8CwvB"
      },
      "source": [
        "#### 6. Print the first song of the first genre"
      ]
    },
    {
      "cell_type": "code",
      "execution_count": null,
      "metadata": {
        "id": "Lr1C1TsTCwvB"
      },
      "outputs": [],
      "source": [
        "# put your answer here"
      ]
    },
    {
      "cell_type": "markdown",
      "metadata": {
        "id": "pZc9t0HBCwvC"
      },
      "source": [
        "#### 7. Print the first song of the last genre"
      ]
    },
    {
      "cell_type": "code",
      "execution_count": null,
      "metadata": {
        "id": "km75ZnM5CwvD"
      },
      "outputs": [],
      "source": [
        "# put your answer here"
      ]
    }
  ],
  "metadata": {
    "kernelspec": {
      "display_name": "Python 3",
      "language": "python",
      "name": "python3"
    },
    "language_info": {
      "codemirror_mode": {
        "name": "ipython",
        "version": 3
      },
      "file_extension": ".py",
      "mimetype": "text/x-python",
      "name": "python",
      "nbconvert_exporter": "python",
      "pygments_lexer": "ipython3",
      "version": "3.11.4"
    },
    "orig_nbformat": 4,
    "colab": {
      "provenance": [],
      "include_colab_link": true
    }
  },
  "nbformat": 4,
  "nbformat_minor": 0
}